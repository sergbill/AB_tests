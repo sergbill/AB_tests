{
 "cells": [
  {
   "cell_type": "code",
   "execution_count": 32,
   "metadata": {},
   "outputs": [],
   "source": [
    "import statsmodels.stats.api as sms\n",
    "import pandas as pd\n",
    "import numpy as np\n",
    "from scipy import stats\n",
    "import matplotlib.pyplot as plt\n",
    "import seaborn as sns\n",
    "plt.style.use('ggplot')\n",
    "import warnings\n",
    "warnings.filterwarnings('ignore')\n",
    "from sklearn.feature_extraction.text import TfidfVectorizer\n",
    "from scipy.sparse import vstack, hstack, csc_matrix\n",
    "from sklearn.preprocessing import OneHotEncoder\n",
    "from lightgbm import LGBMClassifier\n",
    "from sklearn.model_selection import KFold, StratifiedKFold, TimeSeriesSplit,\\\n",
    "                                    cross_val_score, cross_validate, GridSearchCV, ParameterGrid\n",
    "from sklearn.linear_model import LogisticRegression\n",
    "from sklearn.metrics import roc_auc_score\n",
    "from tqdm import tqdm_notebook\n",
    "from collections import defaultdict\n",
    "import time\n",
    "import pickle\n",
    "from sklearn.preprocessing import MinMaxScaler\n",
    "from sklearn.ensemble import RandomForestClassifier\n",
    "import category_encoders as ce"
   ]
  },
  {
   "cell_type": "code",
   "execution_count": 33,
   "metadata": {},
   "outputs": [],
   "source": [
    "# сайты, время\n",
    "times = ['time%d' % i for i in range(1, 11)]\n",
    "sites = ['site%d' % i for i in range(1, 11)]\n",
    "\n",
    "# трейн\n",
    "df_tr = pd.read_csv('train_sessions.csv', parse_dates = times).set_index('session_id').sort_values('time1')"
   ]
  },
  {
   "cell_type": "code",
   "execution_count": 121,
   "metadata": {},
   "outputs": [],
   "source": [
    "def get_AB_required_n(prop1, prop2, alpha, power=.8):\n",
    "    'считает необходимый размер выборки дляпроведения АБ теста'\n",
    "    effect_size = sms.proportion_effectsize(prop1, prop2)\n",
    "    return np.int32(np.around(sms.NormalIndPower().solve_power(effect_size, power=power,alpha=alpha, ratio=1)))"
   ]
  },
  {
   "cell_type": "code",
   "execution_count": 122,
   "metadata": {},
   "outputs": [],
   "source": [
    "sample_size = get_AB_required_n(prop1 = .14, prop2 = .15, alpha = .05, power = .8)"
   ]
  },
  {
   "cell_type": "code",
   "execution_count": 123,
   "metadata": {},
   "outputs": [
    {
     "data": {
      "text/plain": [
       "19456"
      ]
     },
     "execution_count": 123,
     "metadata": {},
     "output_type": "execute_result"
    }
   ],
   "source": [
    "sample_size"
   ]
  },
  {
   "cell_type": "code",
   "execution_count": 71,
   "metadata": {},
   "outputs": [],
   "source": [
    "alpha = .05"
   ]
  },
  {
   "cell_type": "code",
   "execution_count": 126,
   "metadata": {},
   "outputs": [],
   "source": [
    "results_bt, results_ttest = [], []\n",
    "for _ in range(1, 51):\n",
    "\n",
    "    sample1 = np.log1p(df_tr[sites].sample(sample_size, random_state = _))\n",
    "    sample2 = np.log1p(df_tr[sites].drop(sample1.index).sample(sample_size, random_state = _))\n",
    "\n",
    "    sample1 = pd.Series(sample1.values.flatten()).dropna()\n",
    "    sample2 = pd.Series(sample2.values.flatten()).dropna()\n",
    "    \n",
    "    if len(means_A) == len(means_B):\n",
    "        if stats.ttest_ind(sample1, sample2, equal_var = False)[1] > alpha:\n",
    "            results_ttest.append('различий нет')\n",
    "        else:\n",
    "            results_ttest.append('различия есть')            \n",
    "    else:\n",
    "        if stats.ttest_ind(sample1, sample2, equal_var = True)[1] > alpha:\n",
    "            results_ttest.append('различий нет')\n",
    "        else:\n",
    "            results_ttest.append('различия есть')     \n",
    "            \n",
    "        \n",
    "    \n",
    "    np.random.seed(_)\n",
    "    means_A = np.mean(np.random.choice(sample1, (1000, 100)), 1)\n",
    "    means_B = np.mean(np.random.choice(sample2, (1000, 100)), 1)\n",
    "\n",
    "    if len(means_A) == len(means_B):\n",
    "        if stats.ttest_ind(means_A, means_B, equal_var = True)[1] > alpha:\n",
    "            results_bt.append('различий нет')\n",
    "        else:\n",
    "            results_bt.append('различия есть')\n",
    "            \n",
    "    else:\n",
    "        if stats.ttest_ind(means_A, means_B)[1] > alpha:\n",
    "            results_bt.append('различий нет')\n",
    "        else:\n",
    "            results_bt.append('различия есть')\n",
    "            \n",
    "        \n"
   ]
  },
  {
   "cell_type": "code",
   "execution_count": 112,
   "metadata": {},
   "outputs": [
    {
     "data": {
      "text/plain": [
       "'различий нет'"
      ]
     },
     "execution_count": 112,
     "metadata": {},
     "output_type": "execute_result"
    }
   ],
   "source": [
    "pd.Series(results_bt).value_counts().idxmax()"
   ]
  },
  {
   "cell_type": "code",
   "execution_count": 113,
   "metadata": {},
   "outputs": [
    {
     "data": {
      "text/plain": [
       "'различий нет'"
      ]
     },
     "execution_count": 113,
     "metadata": {},
     "output_type": "execute_result"
    }
   ],
   "source": [
    "pd.Series(results_ttest).value_counts().idxmax()"
   ]
  },
  {
   "cell_type": "code",
   "execution_count": 78,
   "metadata": {},
   "outputs": [],
   "source": []
  }
 ],
 "metadata": {
  "kernelspec": {
   "display_name": "Python 3",
   "language": "python",
   "name": "python3"
  },
  "language_info": {
   "codemirror_mode": {
    "name": "ipython",
    "version": 3
   },
   "file_extension": ".py",
   "mimetype": "text/x-python",
   "name": "python",
   "nbconvert_exporter": "python",
   "pygments_lexer": "ipython3",
   "version": "3.8.3"
  }
 },
 "nbformat": 4,
 "nbformat_minor": 4
}
